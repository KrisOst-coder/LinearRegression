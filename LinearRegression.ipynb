{
 "cells": [
  {
   "cell_type": "markdown",
   "metadata": {},
   "source": [
    "### Исследовательский проект \n",
    "“Предсказание рейтингов фильмов на основе компьютерного анализа биологических сигналов респондентов” "
   ]
  },
  {
   "cell_type": "markdown",
   "metadata": {},
   "source": [
    " "
   ]
  },
  {
   "cell_type": "markdown",
   "metadata": {},
   "source": [
    "# Линейная регрессия "
   ]
  },
  {
   "cell_type": "code",
   "execution_count": 1,
   "metadata": {},
   "outputs": [],
   "source": [
    "import matplotlib\n",
    "import matplotlib.pyplot as plt\n",
    "import pandas as pd\n",
    "import numpy as np\n",
    "import warnings\n",
    "import shap\n",
    "import seaborn as sns\n",
    "warnings.simplefilter(\"ignore\")\n",
    "%matplotlib inline\n",
    "\n",
    "sns.set(style=\"darkgrid\")"
   ]
  },
  {
   "cell_type": "code",
   "execution_count": 2,
   "metadata": {},
   "outputs": [],
   "source": [
    "from sklearn.preprocessing import QuantileTransformer"
   ]
  },
  {
   "cell_type": "code",
   "execution_count": 3,
   "metadata": {},
   "outputs": [
    {
     "data": {
      "text/html": [
       "<div>\n",
       "<style scoped>\n",
       "    .dataframe tbody tr th:only-of-type {\n",
       "        vertical-align: middle;\n",
       "    }\n",
       "\n",
       "    .dataframe tbody tr th {\n",
       "        vertical-align: top;\n",
       "    }\n",
       "\n",
       "    .dataframe thead th {\n",
       "        text-align: right;\n",
       "    }\n",
       "</style>\n",
       "<table border=\"1\" class=\"dataframe\">\n",
       "  <thead>\n",
       "    <tr style=\"text-align: right;\">\n",
       "      <th></th>\n",
       "      <th>Theta</th>\n",
       "      <th>Alpha</th>\n",
       "      <th>Beta</th>\n",
       "      <th>TotalAbsPow</th>\n",
       "      <th>Theta_watch-relax</th>\n",
       "      <th>Alpha_watch-relax</th>\n",
       "      <th>Beta_watch-relax</th>\n",
       "      <th>Beta/Alpha</th>\n",
       "      <th>Beta/(Alpha + Theta)</th>\n",
       "      <th>ApEn</th>\n",
       "      <th>...</th>\n",
       "      <th>ShanEn</th>\n",
       "      <th>SpEn</th>\n",
       "      <th>WPEn</th>\n",
       "      <th>ch</th>\n",
       "      <th>film</th>\n",
       "      <th>Subj</th>\n",
       "      <th>labels</th>\n",
       "      <th>Theta_ratio</th>\n",
       "      <th>Alpha_ratio</th>\n",
       "      <th>Beta_ratio</th>\n",
       "    </tr>\n",
       "  </thead>\n",
       "  <tbody>\n",
       "    <tr>\n",
       "      <th>0</th>\n",
       "      <td>0.306417</td>\n",
       "      <td>0.051499</td>\n",
       "      <td>0.047905</td>\n",
       "      <td>0.166229</td>\n",
       "      <td>0.552600</td>\n",
       "      <td>0.766122</td>\n",
       "      <td>0.931168</td>\n",
       "      <td>0.268510</td>\n",
       "      <td>0.723673</td>\n",
       "      <td>0.657834</td>\n",
       "      <td>...</td>\n",
       "      <td>0.416636</td>\n",
       "      <td>0.656087</td>\n",
       "      <td>0.999443</td>\n",
       "      <td>1</td>\n",
       "      <td>1</td>\n",
       "      <td>1</td>\n",
       "      <td>10</td>\n",
       "      <td>0.526244</td>\n",
       "      <td>0.203860</td>\n",
       "      <td>0.269896</td>\n",
       "    </tr>\n",
       "    <tr>\n",
       "      <th>1</th>\n",
       "      <td>0.130892</td>\n",
       "      <td>0.027491</td>\n",
       "      <td>0.035651</td>\n",
       "      <td>0.080043</td>\n",
       "      <td>0.486594</td>\n",
       "      <td>0.764210</td>\n",
       "      <td>0.931905</td>\n",
       "      <td>0.268885</td>\n",
       "      <td>0.724264</td>\n",
       "      <td>0.757770</td>\n",
       "      <td>...</td>\n",
       "      <td>0.416455</td>\n",
       "      <td>0.746751</td>\n",
       "      <td>0.999079</td>\n",
       "      <td>2</td>\n",
       "      <td>1</td>\n",
       "      <td>1</td>\n",
       "      <td>10</td>\n",
       "      <td>0.421152</td>\n",
       "      <td>0.211133</td>\n",
       "      <td>0.367715</td>\n",
       "    </tr>\n",
       "    <tr>\n",
       "      <th>2</th>\n",
       "      <td>0.074232</td>\n",
       "      <td>0.017666</td>\n",
       "      <td>0.039045</td>\n",
       "      <td>0.057475</td>\n",
       "      <td>0.495192</td>\n",
       "      <td>0.753900</td>\n",
       "      <td>0.932780</td>\n",
       "      <td>0.256988</td>\n",
       "      <td>0.693936</td>\n",
       "      <td>0.640169</td>\n",
       "      <td>...</td>\n",
       "      <td>0.416334</td>\n",
       "      <td>0.565815</td>\n",
       "      <td>0.999200</td>\n",
       "      <td>3</td>\n",
       "      <td>1</td>\n",
       "      <td>1</td>\n",
       "      <td>10</td>\n",
       "      <td>0.348217</td>\n",
       "      <td>0.193641</td>\n",
       "      <td>0.458142</td>\n",
       "    </tr>\n",
       "    <tr>\n",
       "      <th>3</th>\n",
       "      <td>0.199833</td>\n",
       "      <td>0.055224</td>\n",
       "      <td>0.058346</td>\n",
       "      <td>0.142365</td>\n",
       "      <td>0.513512</td>\n",
       "      <td>0.772845</td>\n",
       "      <td>0.935005</td>\n",
       "      <td>0.268511</td>\n",
       "      <td>0.723786</td>\n",
       "      <td>0.660308</td>\n",
       "      <td>...</td>\n",
       "      <td>0.415972</td>\n",
       "      <td>0.548588</td>\n",
       "      <td>1.000000</td>\n",
       "      <td>4</td>\n",
       "      <td>1</td>\n",
       "      <td>1</td>\n",
       "      <td>10</td>\n",
       "      <td>0.414250</td>\n",
       "      <td>0.247133</td>\n",
       "      <td>0.338618</td>\n",
       "    </tr>\n",
       "    <tr>\n",
       "      <th>4</th>\n",
       "      <td>0.291537</td>\n",
       "      <td>0.086981</td>\n",
       "      <td>0.056585</td>\n",
       "      <td>0.196472</td>\n",
       "      <td>0.511219</td>\n",
       "      <td>0.783938</td>\n",
       "      <td>0.929024</td>\n",
       "      <td>0.267723</td>\n",
       "      <td>0.723650</td>\n",
       "      <td>0.595585</td>\n",
       "      <td>...</td>\n",
       "      <td>0.416575</td>\n",
       "      <td>0.674397</td>\n",
       "      <td>0.998649</td>\n",
       "      <td>6</td>\n",
       "      <td>1</td>\n",
       "      <td>1</td>\n",
       "      <td>10</td>\n",
       "      <td>0.455908</td>\n",
       "      <td>0.279164</td>\n",
       "      <td>0.264928</td>\n",
       "    </tr>\n",
       "  </tbody>\n",
       "</table>\n",
       "<p>5 rows × 39 columns</p>\n",
       "</div>"
      ],
      "text/plain": [
       "      Theta     Alpha      Beta  TotalAbsPow  Theta_watch-relax  \\\n",
       "0  0.306417  0.051499  0.047905     0.166229           0.552600   \n",
       "1  0.130892  0.027491  0.035651     0.080043           0.486594   \n",
       "2  0.074232  0.017666  0.039045     0.057475           0.495192   \n",
       "3  0.199833  0.055224  0.058346     0.142365           0.513512   \n",
       "4  0.291537  0.086981  0.056585     0.196472           0.511219   \n",
       "\n",
       "   Alpha_watch-relax  Beta_watch-relax  Beta/Alpha  Beta/(Alpha + Theta)  \\\n",
       "0           0.766122          0.931168    0.268510              0.723673   \n",
       "1           0.764210          0.931905    0.268885              0.724264   \n",
       "2           0.753900          0.932780    0.256988              0.693936   \n",
       "3           0.772845          0.935005    0.268511              0.723786   \n",
       "4           0.783938          0.929024    0.267723              0.723650   \n",
       "\n",
       "       ApEn  ...    ShanEn      SpEn      WPEn  ch  film  Subj  labels  \\\n",
       "0  0.657834  ...  0.416636  0.656087  0.999443   1     1     1      10   \n",
       "1  0.757770  ...  0.416455  0.746751  0.999079   2     1     1      10   \n",
       "2  0.640169  ...  0.416334  0.565815  0.999200   3     1     1      10   \n",
       "3  0.660308  ...  0.415972  0.548588  1.000000   4     1     1      10   \n",
       "4  0.595585  ...  0.416575  0.674397  0.998649   6     1     1      10   \n",
       "\n",
       "   Theta_ratio  Alpha_ratio  Beta_ratio  \n",
       "0     0.526244     0.203860    0.269896  \n",
       "1     0.421152     0.211133    0.367715  \n",
       "2     0.348217     0.193641    0.458142  \n",
       "3     0.414250     0.247133    0.338618  \n",
       "4     0.455908     0.279164    0.264928  \n",
       "\n",
       "[5 rows x 39 columns]"
      ]
     },
     "execution_count": 3,
     "metadata": {},
     "output_type": "execute_result"
    }
   ],
   "source": [
    "data = pd.read_csv(\"/Users/apple/Desktop/lab_dataset_filtered.csv\")\n",
    "data.head()"
   ]
  },
  {
   "cell_type": "markdown",
   "metadata": {},
   "source": [
    "##### Посмотрим на размер данных"
   ]
  },
  {
   "cell_type": "code",
   "execution_count": 4,
   "metadata": {},
   "outputs": [
    {
     "data": {
      "text/plain": [
       "(1576, 39)"
      ]
     },
     "execution_count": 4,
     "metadata": {},
     "output_type": "execute_result"
    }
   ],
   "source": [
    "data.shape"
   ]
  },
  {
   "cell_type": "markdown",
   "metadata": {},
   "source": [
    "##### Посмотрим на значение столбцов"
   ]
  },
  {
   "cell_type": "code",
   "execution_count": 5,
   "metadata": {
    "scrolled": true
   },
   "outputs": [
    {
     "data": {
      "text/plain": [
       "Index(['Theta', 'Alpha', 'Beta', 'TotalAbsPow', 'Theta_watch-relax',\n",
       "       'Alpha_watch-relax', 'Beta_watch-relax', 'Beta/Alpha',\n",
       "       'Beta/(Alpha + Theta)', 'ApEn', 'CREn', 'DiffEn', 'FI', 'Hjorth',\n",
       "       'Hurst', 'KFD', 'LZC', 'MSE', 'MSPEn', 'NLD', 'PEn', 'PFD', 'PLZC',\n",
       "       'PSDslope', 'RR', 'SDA', 'SFD', 'SVDEn', 'SampEn', 'ShanEn', 'SpEn',\n",
       "       'WPEn', 'ch', 'film', 'Subj', 'labels', 'Theta_ratio', 'Alpha_ratio',\n",
       "       'Beta_ratio'],\n",
       "      dtype='object')"
      ]
     },
     "execution_count": 5,
     "metadata": {},
     "output_type": "execute_result"
    }
   ],
   "source": [
    "data.columns"
   ]
  },
  {
   "cell_type": "markdown",
   "metadata": {},
   "source": [
    "Уберем факторы, которые не несут в себе смысл для нахождения закономерности, например каналы: \"film\", \"ch\", \"Subj\".\n",
    "\n",
    "А так же вынесем главный признак, который мы собственное и ходим угадывать - канал \"labels\".\n",
    "Теперь обучающая матрица будет находится в переменной X\n"
   ]
  },
  {
   "cell_type": "code",
   "execution_count": 6,
   "metadata": {},
   "outputs": [],
   "source": [
    "X_test = data.loc[(data['Subj']  == 11)].reset_index(drop=True)\n",
    "X_train = data.loc[(data['Subj'] != 11)].reset_index(drop=True)\n",
    "X_train = X_train.sample(frac=1)\n",
    "X_test = X_test.sample(frac=1)\n",
    "\n",
    "y_train = X_train['labels']\n",
    "y_test_inv = np.array(X_test['labels'])\n",
    "train_film = X_train['film']\n",
    "train_subj = X_train['Subj']\n",
    "train_ch = X_train['ch']\n",
    "test_film = X_test['film']\n",
    "test_subj = X_test['Subj']\n",
    "test_ch = np.array(X_test['ch'])\n",
    "\n",
    "X_train = X_train.drop(['film', 'labels', 'Subj'], axis=1)\n",
    "X_test = X_test.drop(['film', 'labels', 'Subj'], axis=1)\n",
    "\n",
    "\n",
    "qt_train = QuantileTransformer(output_distribution='normal',\n",
    "                           copy=True)\n",
    "y_train = pd.DataFrame(qt_train.fit_transform(np.array(y_train).reshape(-1, 1)))\n",
    "qt_test = QuantileTransformer(output_distribution='normal',\n",
    "                             copy=True)\n",
    "y_test = pd.DataFrame(qt_test.fit_transform(np.array(y_test_inv).reshape(-1, 1)))"
   ]
  },
  {
   "cell_type": "code",
   "execution_count": 7,
   "metadata": {},
   "outputs": [
    {
     "data": {
      "text/plain": [
       "LinearRegression()"
      ]
     },
     "execution_count": 7,
     "metadata": {},
     "output_type": "execute_result"
    }
   ],
   "source": [
    "from sklearn.linear_model import LinearRegression\n",
    "model = LinearRegression()\n",
    "model.fit(X_train, y_train)"
   ]
  },
  {
   "cell_type": "code",
   "execution_count": 8,
   "metadata": {},
   "outputs": [],
   "source": [
    "y_pred = model.predict(X_test)"
   ]
  },
  {
   "cell_type": "code",
   "execution_count": 9,
   "metadata": {},
   "outputs": [],
   "source": [
    "preds = qt_test.inverse_transform(y_pred.reshape(-1, 1))"
   ]
  },
  {
   "cell_type": "code",
   "execution_count": 10,
   "metadata": {},
   "outputs": [
    {
     "data": {
      "text/plain": [
       "array([[<matplotlib.axes._subplots.AxesSubplot object at 0x126c35d60>]],\n",
       "      dtype=object)"
      ]
     },
     "execution_count": 10,
     "metadata": {},
     "output_type": "execute_result"
    },
    {
     "data": {
      "image/png": "[encoded data removed]",
      "text/plain": [
       "<Figure size 432x288 with 1 Axes>"
      ]
     },
     "metadata": {},
     "output_type": "display_data"
    }
   ],
   "source": [
    "pd.DataFrame(preds).hist()"
   ]
  },
  {
   "cell_type": "code",
   "execution_count": 11,
   "metadata": {},
   "outputs": [
    {
     "data": {
      "text/html": [
       "<div>\n",
       "<style scoped>\n",
       "    .dataframe tbody tr th:only-of-type {\n",
       "        vertical-align: middle;\n",
       "    }\n",
       "\n",
       "    .dataframe tbody tr th {\n",
       "        vertical-align: top;\n",
       "    }\n",
       "\n",
       "    .dataframe thead th {\n",
       "        text-align: right;\n",
       "    }\n",
       "</style>\n",
       "<table border=\"1\" class=\"dataframe\">\n",
       "  <thead>\n",
       "    <tr style=\"text-align: right;\">\n",
       "      <th></th>\n",
       "      <th>0</th>\n",
       "    </tr>\n",
       "  </thead>\n",
       "  <tbody>\n",
       "    <tr>\n",
       "      <th>count</th>\n",
       "      <td>106.000000</td>\n",
       "    </tr>\n",
       "    <tr>\n",
       "      <th>mean</th>\n",
       "      <td>5.383212</td>\n",
       "    </tr>\n",
       "    <tr>\n",
       "      <th>std</th>\n",
       "      <td>1.792040</td>\n",
       "    </tr>\n",
       "    <tr>\n",
       "      <th>min</th>\n",
       "      <td>3.000000</td>\n",
       "    </tr>\n",
       "    <tr>\n",
       "      <th>25%</th>\n",
       "      <td>4.000000</td>\n",
       "    </tr>\n",
       "    <tr>\n",
       "      <th>50%</th>\n",
       "      <td>5.000000</td>\n",
       "    </tr>\n",
       "    <tr>\n",
       "      <th>75%</th>\n",
       "      <td>6.139815</td>\n",
       "    </tr>\n",
       "    <tr>\n",
       "      <th>max</th>\n",
       "      <td>8.000000</td>\n",
       "    </tr>\n",
       "  </tbody>\n",
       "</table>\n",
       "</div>"
      ],
      "text/plain": [
       "                0\n",
       "count  106.000000\n",
       "mean     5.383212\n",
       "std      1.792040\n",
       "min      3.000000\n",
       "25%      4.000000\n",
       "50%      5.000000\n",
       "75%      6.139815\n",
       "max      8.000000"
      ]
     },
     "execution_count": 11,
     "metadata": {},
     "output_type": "execute_result"
    }
   ],
   "source": [
    "pd.DataFrame(preds).describe()"
   ]
  },
  {
   "cell_type": "code",
   "execution_count": 12,
   "metadata": {},
   "outputs": [],
   "source": [
    "chans = ['Fz', 'F3', 'F7','C3', 'T7', 'Pz', 'P3','P7', 'O1', 'Oz', 'O2','P4', 'P8', 'Cz','C4', 'T8', 'F4', 'F8']\n",
    "pred = [[0 for j in range(8)] for i in range(12)]\n",
    "num_chans = [[0 for j in range(8)] for i in range(12)]\n",
    "labels = [[0 for j in range(8)] for i in range(12)]\n",
    "lbl = [[0 for j in range(8)] for i in range(12)]\n",
    "channels = [[] for i in range(12)]\n",
    "for i in range(len(preds)):\n",
    "    pred[np.array(test_subj)[i] - 1][np.array(test_film)[i] - 1] += np.array(preds)[i]\n",
    "    num_chans[np.array(test_subj)[i] - 1][np.array(test_film)[i] - 1] += 1\n",
    "    labels[np.array(test_subj)[i] - 1][np.array(test_film)[i] - 1] += np.array(y_test_inv)[i]\n",
    "    channels[np.array(test_subj)[i] - 1].append(chans[test_ch[i] - 1])\n",
    "labels = np.array(labels).astype(np.float64) / np.array(num_chans).astype(np.float64)\n",
    "pred = np.array(pred).astype(np.float64) / np.array(num_chans).astype(np.float64)\n",
    "labels = np.nan_to_num(labels)\n",
    "pred = np.nan_to_num(pred)\n",
    "predicted = []\n",
    "lbl = []\n",
    "for i in range(len(labels)):\n",
    "    if sum(labels[i]) != 0:\n",
    "        for j in range(8):\n",
    "            if labels[i][j] != 0:\n",
    "                lbl.append(labels[i][j])  \n",
    "                predicted.append(pred[i][j])"
   ]
  },
  {
   "cell_type": "code",
   "execution_count": 13,
   "metadata": {},
   "outputs": [
    {
     "name": "stdout",
     "output_type": "stream",
     "text": [
      "label : 8.00 predicted: 6.81 \n",
      "label : 3.00 predicted: 4.84 \n",
      "label : 5.00 predicted: 3.89 \n",
      "label : 8.00 predicted: 6.16 \n",
      "label : 6.00 predicted: 5.64 \n",
      "label : 4.00 predicted: 5.11 \n"
     ]
    }
   ],
   "source": [
    "for [l, p] in zip(lbl, predicted):\n",
    "    print('label : {:0.2f} predicted: {:0.2f} '.format(l, p))"
   ]
  },
  {
   "cell_type": "code",
   "execution_count": null,
   "metadata": {},
   "outputs": [],
   "source": [
    "\n"
   ]
  },
  {
   "cell_type": "code",
   "execution_count": 14,
   "metadata": {},
   "outputs": [],
   "source": [
    "from sklearn.metrics import mean_absolute_error, r2_score\n"
   ]
  },
  {
   "cell_type": "code",
   "execution_count": 15,
   "metadata": {},
   "outputs": [],
   "source": [
    "def percentage_error(actual, predicted):\n",
    "    res = np.empty(actual.shape)\n",
    "    for j in range(actual.shape[0]):\n",
    "        if actual[j] != 0:\n",
    "            res[j] = (actual[j] - predicted[j]) / actual[j]\n",
    "        else:\n",
    "            res[j] = predicted[j] / np.mean(actual)\n",
    "    return res\n",
    "\n",
    "def mean_absolute_percentage_error(y_true, y_pred): \n",
    "    return np.mean(np.abs(percentage_error(np.asarray(y_true), np.asarray(y_pred))))"
   ]
  },
  {
   "cell_type": "code",
   "execution_count": 16,
   "metadata": {},
   "outputs": [
    {
     "name": "stdout",
     "output_type": "stream",
     "text": [
      "r2: 0.4956350929535728\n",
      "MAPE: 0.25855826110830166\n",
      "MAE :  1.2409796084380553\n"
     ]
    }
   ],
   "source": [
    "print('r2:', r2_score(lbl, predicted))\n",
    "print('MAPE:', mean_absolute_percentage_error(lbl, predicted))\n",
    "print('MAE : ', mean_absolute_error(lbl, predicted))"
   ]
  },
  {
   "cell_type": "markdown",
   "metadata": {},
   "source": [
    "# Таблица со значениями метрик"
   ]
  },
  {
   "cell_type": "code",
   "execution_count": 17,
   "metadata": {},
   "outputs": [],
   "source": [
    "from tqdm import tqdm_notebook\n",
    "from multiprocessing import Pool"
   ]
  },
  {
   "cell_type": "code",
   "execution_count": 18,
   "metadata": {},
   "outputs": [],
   "source": [
    "models = ['LinearRegression']\n",
    "metrics = ['MAPE', 'MAE', 'R2']\n",
    "formes = ['inverted', 'average']\n",
    "columns = [\n",
    "    np.array([models[i] for i in range(1) for j in range(3) for k in range(2)]),\n",
    "    np.array([metrics[j] for i in range(1) for j in range(3) for k in range(2)]),\n",
    "    np.array([formes[k] for i in range(1) for j in range(3) for k in range(2)]),\n",
    "]"
   ]
  },
  {
   "cell_type": "code",
   "execution_count": 19,
   "metadata": {},
   "outputs": [
    {
     "data": {
      "application/vnd.jupyter.widget-view+json": {
       "model_id": "cf4c94735ca447dfb442506a35441633",
       "version_major": 2,
       "version_minor": 0
      },
      "text/plain": [
       "HBox(children=(FloatProgress(value=0.0, max=8.0), HTML(value='')))"
      ]
     },
     "metadata": {},
     "output_type": "display_data"
    },
    {
     "name": "stdout",
     "output_type": "stream",
     "text": [
      "\n"
     ]
    }
   ],
   "source": [
    "chans = ['Fz', 'F3', 'F7','C3', 'T7', 'Pz', 'P3','P7', 'O1', 'Oz', 'O2','P4', 'P8', 'Cz','C4', 'T8', 'F4', 'F8']\n",
    "result = pd.DataFrame()\n",
    "grid_res = []\n",
    "for film in tqdm_notebook(range(1, 9)):\n",
    "    df = pd.DataFrame(np.random.randn(1, 1 * 3 * 2), columns=columns)\n",
    "    X_test = data.loc[(data['film'] == film)].reset_index(drop=True)\n",
    "    X_train = data.loc[(data['film'] != film)].reset_index(drop=True)\n",
    "    X_train = X_train.sample(frac=1)\n",
    "    X_test = X_test.sample(frac=1)\n",
    "\n",
    "    y_train = X_train['labels']\n",
    "    y_test_inv = np.array(X_test['labels'])\n",
    "    train_film = X_train['film']\n",
    "    train_subj = X_train['Subj']\n",
    "    train_ch = X_train['ch']\n",
    "    test_film = X_test['film']\n",
    "    test_subj = X_test['Subj']\n",
    "    test_ch = np.array(X_test['ch'])\n",
    "    \n",
    "    X_train = X_train.drop(['film', 'Subj', 'labels'], axis=1)\n",
    "    X_test = X_test.drop(['film', 'Subj', 'labels'], axis=1)\n",
    "    \n",
    "    qt_train = QuantileTransformer(output_distribution='normal',\n",
    "                             copy=True)\n",
    "    y_train = pd.DataFrame(qt_train.fit_transform(np.array(y_train).reshape(-1, 1)))\n",
    "    qt_test = QuantileTransformer(output_distribution='normal',\n",
    "                             copy=True)\n",
    "    y_test = pd.DataFrame(qt_test.fit_transform(np.array(y_test_inv).reshape(-1, 1)))\n",
    "    \n",
    "    model = LinearRegression()\n",
    "    model.fit(X_train, y_train)\n",
    "    y_pred = model.predict(X_test)\n",
    "    preds = qt_test.inverse_transform(np.array(y_pred).reshape(-1, 1))\n",
    "    df[('LinearRegression', 'R2', 'inverted')] = r2_score(preds, y_test_inv)\n",
    "    df[('LinearRegression', 'MAPE', 'inverted')] = mean_absolute_percentage_error(preds, y_test_inv)\n",
    "    df[('LinearRegression', 'MAE', 'inverted')] = mean_absolute_error(preds, y_test_inv)\n",
    "    \n",
    "    pred = [[0 for j in range(8)] for i in range(12)]\n",
    "    num_chans = [[0 for j in range(8)] for i in range(12)]\n",
    "    labels = [[0 for j in range(8)] for i in range(12)]\n",
    "    lbl = [[0 for j in range(8)] for i in range(12)]\n",
    "    channels = [[] for i in range(12)]\n",
    "    for i in range(len(preds)):\n",
    "        pred[np.array(test_subj)[i] - 1][np.array(test_film)[i] - 1] += preds[i]\n",
    "        num_chans[np.array(test_subj)[i] - 1][np.array(test_film)[i] - 1] += 1\n",
    "        labels[np.array(test_subj)[i] - 1][np.array(test_film)[i] - 1] += y_test_inv[i]\n",
    "        channels[np.array(test_subj)[i] - 1].append(chans[test_ch[i] - 1])\n",
    "    labels = np.array(labels).astype(np.float64) / np.array(num_chans).astype(np.float64)\n",
    "    pred = np.array(pred).astype(np.float64) / np.array(num_chans).astype(np.float64)\n",
    "    labels = np.nan_to_num(labels)\n",
    "    pred = np.nan_to_num(pred)\n",
    "    predicted = []\n",
    "    lbl = []\n",
    "    for i in range(len(labels)):\n",
    "        if sum(labels[i]) != 0:\n",
    "            for j in range(8):\n",
    "                if labels[i][j] != 0:\n",
    "                    lbl.append(labels[i][j])  \n",
    "                    predicted.append(pred[i][j])\n",
    "\n",
    "    df[('LinearRegression', 'R2', 'average')] = r2_score(lbl, predicted)\n",
    "    df[('LinearRegression', 'MAPE', 'average')] = mean_absolute_percentage_error(lbl, predicted)\n",
    "    df[('LinearRegression', 'MAE', 'average')] = mean_absolute_error(lbl, predicted)\n",
    "    result = pd.concat([result, df], axis=0)"
   ]
  },
  {
   "cell_type": "code",
   "execution_count": 20,
   "metadata": {},
   "outputs": [],
   "source": [
    "result.to_excel('metrics.xlsx')"
   ]
  },
  {
   "cell_type": "code",
   "execution_count": 21,
   "metadata": {},
   "outputs": [],
   "source": [
    "result.describe().to_excel('metrics_described.xlsx')"
   ]
  },
  {
   "cell_type": "code",
   "execution_count": 22,
   "metadata": {},
   "outputs": [],
   "source": [
    "params = {'depth': 6, 'l2_leaf_reg': 3, 'iterations': 1000, 'learning_rate': 0.1, 'loss_function' : 'RMSE'}"
   ]
  },
  {
   "cell_type": "code",
   "execution_count": 23,
   "metadata": {},
   "outputs": [],
   "source": [
    "import warnings\n",
    "import logging\n",
    "warnings.filterwarnings('ignore')\n",
    "\n",
    "logger = logging.getLogger()\n",
    "logger.setLevel(logging.CRITICAL)\n",
    "logging.getLogger(\"shap\").setLevel(logging.WARNING)"
   ]
  },
  {
   "cell_type": "markdown",
   "metadata": {},
   "source": [
    "# Таблицы со значениями shap для всех фильмов (1 на тест, остальные на обучение)\n",
    "\n"
   ]
  },
  {
   "cell_type": "code",
   "execution_count": 24,
   "metadata": {},
   "outputs": [
    {
     "data": {
      "application/vnd.jupyter.widget-view+json": {
       "model_id": "baadabceb6db4aff8fc8a89d7f9050d0",
       "version_major": 2,
       "version_minor": 0
      },
      "text/plain": [
       "HBox(children=(FloatProgress(value=0.0, max=8.0), HTML(value='')))"
      ]
     },
     "metadata": {},
     "output_type": "display_data"
    },
    {
     "data": {
      "application/vnd.jupyter.widget-view+json": {
       "model_id": "cf5f508b19bf4b959a2f4de183b54c2d",
       "version_major": 2,
       "version_minor": 0
      },
      "text/plain": [
       "HBox(children=(FloatProgress(value=0.0, max=195.0), HTML(value='')))"
      ]
     },
     "metadata": {},
     "output_type": "display_data"
    },
    {
     "name": "stdout",
     "output_type": "stream",
     "text": [
      "\n"
     ]
    },
    {
     "data": {
      "application/vnd.jupyter.widget-view+json": {
       "model_id": "09a9ce091bf74d2591a6916c141d5dc2",
       "version_major": 2,
       "version_minor": 0
      },
      "text/plain": [
       "HBox(children=(FloatProgress(value=0.0, max=191.0), HTML(value='')))"
      ]
     },
     "metadata": {},
     "output_type": "display_data"
    },
    {
     "name": "stdout",
     "output_type": "stream",
     "text": [
      "\n"
     ]
    },
    {
     "data": {
      "application/vnd.jupyter.widget-view+json": {
       "model_id": "ac8e9fc72d1f4420a771cd264f7943e7",
       "version_major": 2,
       "version_minor": 0
      },
      "text/plain": [
       "HBox(children=(FloatProgress(value=0.0, max=199.0), HTML(value='')))"
      ]
     },
     "metadata": {},
     "output_type": "display_data"
    },
    {
     "name": "stdout",
     "output_type": "stream",
     "text": [
      "\n"
     ]
    },
    {
     "data": {
      "application/vnd.jupyter.widget-view+json": {
       "model_id": "71cd6ee220a24a4ab2186eddfb12cc7a",
       "version_major": 2,
       "version_minor": 0
      },
      "text/plain": [
       "HBox(children=(FloatProgress(value=0.0, max=205.0), HTML(value='')))"
      ]
     },
     "metadata": {},
     "output_type": "display_data"
    },
    {
     "name": "stdout",
     "output_type": "stream",
     "text": [
      "\n"
     ]
    },
    {
     "data": {
      "application/vnd.jupyter.widget-view+json": {
       "model_id": "c8437bedbe4e48daad63f50d89c4d3e4",
       "version_major": 2,
       "version_minor": 0
      },
      "text/plain": [
       "HBox(children=(FloatProgress(value=0.0, max=193.0), HTML(value='')))"
      ]
     },
     "metadata": {},
     "output_type": "display_data"
    },
    {
     "name": "stdout",
     "output_type": "stream",
     "text": [
      "\n"
     ]
    },
    {
     "data": {
      "application/vnd.jupyter.widget-view+json": {
       "model_id": "3715ded7185047628e292caf19e11fc6",
       "version_major": 2,
       "version_minor": 0
      },
      "text/plain": [
       "HBox(children=(FloatProgress(value=0.0, max=182.0), HTML(value='')))"
      ]
     },
     "metadata": {},
     "output_type": "display_data"
    },
    {
     "name": "stdout",
     "output_type": "stream",
     "text": [
      "\n"
     ]
    },
    {
     "data": {
      "application/vnd.jupyter.widget-view+json": {
       "model_id": "36f3844043cf491f924169deae6dd4e5",
       "version_major": 2,
       "version_minor": 0
      },
      "text/plain": [
       "HBox(children=(FloatProgress(value=0.0, max=206.0), HTML(value='')))"
      ]
     },
     "metadata": {},
     "output_type": "display_data"
    },
    {
     "name": "stdout",
     "output_type": "stream",
     "text": [
      "\n"
     ]
    },
    {
     "data": {
      "application/vnd.jupyter.widget-view+json": {
       "model_id": "8e83ed4f958946fa96a8b1e370396d9a",
       "version_major": 2,
       "version_minor": 0
      },
      "text/plain": [
       "HBox(children=(FloatProgress(value=0.0, max=205.0), HTML(value='')))"
      ]
     },
     "metadata": {},
     "output_type": "display_data"
    },
    {
     "name": "stdout",
     "output_type": "stream",
     "text": [
      "\n",
      "\n"
     ]
    },
    {
     "data": {
      "text/plain": [
       "<Figure size 576x1116 with 0 Axes>"
      ]
     },
     "metadata": {},
     "output_type": "display_data"
    }
   ],
   "source": [
    "chans = ['Fz', 'F3', 'F7','C3', 'T7', 'Pz', 'P3','P7', 'O1', 'Oz', 'O2','P4', 'P8', 'Cz','C4', 'T8', 'F4', 'F8']\n",
    "result = pd.DataFrame()\n",
    "grid_res = []\n",
    "for film in tqdm_notebook(range(1, 9)):\n",
    "    df = pd.DataFrame(np.random.randn(1, 1 * 3 * 2), columns=columns)\n",
    "    X_test = data.loc[(data['film'] == film)].reset_index(drop=True)\n",
    "    X_train = data.loc[(data['film'] != film)].reset_index(drop=True)\n",
    "    X_train = X_train.sample(frac=1)\n",
    "    X_test = X_test.sample(frac=1)\n",
    "\n",
    "    y_train = X_train['labels']\n",
    "    y_test = np.array(X_test['labels'])\n",
    "    train_film = X_train['film']\n",
    "    train_subj = X_train['Subj']\n",
    "    train_ch = X_train['ch']\n",
    "    test_film = X_test['film']\n",
    "    test_subj = X_test['Subj']\n",
    "    test_ch = np.array(X_test['ch'])\n",
    "    \n",
    "    X_train = X_train.drop(['film', 'Subj', 'labels', 'ch'], axis=1)\n",
    "    X_test = X_test.drop(['film', 'Subj', 'labels', 'ch'], axis=1)\n",
    "    \n",
    "    \n",
    "    model = LinearRegression()\n",
    "    model.fit(X_train, y_train)\n",
    "    X_train_summary = shap.kmeans(X_train, 10)\n",
    "    explainer = shap.KernelExplainer(model.predict, X_train_summary)\n",
    "    shap_values = explainer.shap_values(X_test)\n",
    "    shap.summary_plot(shap_values, X_test, max_display=35, show=False)\n",
    "    plt.savefig('F{}.png'.format(film),  bbox_inches='tight')\n",
    "    plt.clf()"
   ]
  },
  {
   "cell_type": "code",
   "execution_count": null,
   "metadata": {},
   "outputs": [],
   "source": []
  }
 ],
 "metadata": {
  "kernelspec": {
   "display_name": "Python 3",
   "language": "python",
   "name": "python3"
  },
  "language_info": {
   "codemirror_mode": {
    "name": "ipython",
    "version": 3
   },
   "file_extension": ".py",
   "mimetype": "text/x-python",
   "name": "python",
   "nbconvert_exporter": "python",
   "pygments_lexer": "ipython3",
   "version": "3.8.3"
  }
 },
 "nbformat": 4,
 "nbformat_minor": 4
}
